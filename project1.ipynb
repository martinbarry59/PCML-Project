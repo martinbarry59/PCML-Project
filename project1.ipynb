{
 "cells": [
  {
   "cell_type": "code",
   "execution_count": 3,
   "metadata": {
    "collapsed": false
   },
   "outputs": [],
   "source": [
    "# Useful starting lines\n",
    "%matplotlib inline\n",
    "import numpy as np\n",
    "import matplotlib.pyplot as plt\n",
    "%load_ext autoreload\n",
    "%autoreload 2"
   ]
  },
  {
   "cell_type": "markdown",
   "metadata": {},
   "source": [
    "## Load the training data into feature matrix, class labels, and event ids:"
   ]
  },
  {
   "cell_type": "code",
   "execution_count": 4,
   "metadata": {
    "collapsed": false
   },
   "outputs": [],
   "source": [
    "from proj1_helpers import *\n",
    "DATA_TRAIN_PATH = 'train.csv' # TODO: download train data and supply path here \n",
    "y, tX, ids = load_csv_data(DATA_TRAIN_PATH)\n",
    "\n"
   ]
  },
  {
   "cell_type": "code",
   "execution_count": 110,
   "metadata": {
    "collapsed": false
   },
   "outputs": [],
   "source": [
    "x = np.ones([tX.shape[0],1])\n",
    "#tX_final =tX[:,[1,2,3,7,8,9,10,11,13,14,15,16,17,18,19,20,21,22,23,29]]\n",
    "tX_final =(tX_final - np.mean(tX_final))/np.std(tX_final)\n",
    "\n",
    "tX_final = np.concatenate((x,tX),axis = 1)\n"
   ]
  },
  {
   "cell_type": "markdown",
   "metadata": {},
   "source": [
    "## Do your thing crazy machine learning thing here :) ..."
   ]
  },
  {
   "cell_type": "code",
   "execution_count": 123,
   "metadata": {
    "collapsed": false
   },
   "outputs": [
    {
     "name": "stdout",
     "output_type": "stream",
     "text": [
      "Gradient Descent(9/9): loss=0.42624891535250037\n"
     ]
    }
   ],
   "source": [
    "# Gradient Descent.\n",
    "import gradient_descent as gd\n",
    "def least_squares_GD(y, tX, initial_w, max_iters, gamma) :\n",
    "\n",
    " return gd.gradient_descent(y, tX, initial_w, max_iters, gamma)\n",
    "\n",
    "initial_w = np.zeros(tX_final.shape[1]) # initialisation of initial weights\n",
    "max_iters = 10 # max iter number\n",
    "gamma = 3e-7 # gradient descent speed \n",
    "[gradient_losses,gradient_weights]=least_squares_GD(y, tX_final, initial_w, max_iters, gamma) \n"
   ]
  },
  {
   "cell_type": "code",
   "execution_count": 103,
   "metadata": {
    "collapsed": false
   },
   "outputs": [
    {
     "name": "stdout",
     "output_type": "stream",
     "text": [
      "Gradient Descent(999/999): loss=0.4364523825012039\n",
      "[-0.0648822  -0.07043674 -0.02148924  0.01939921  0.00793415 -0.00456846\n",
      " -0.01554431  0.0070434   0.00975792  0.02122081  0.00853876  0.00857676\n",
      " -0.01522149  0.00857278  0.00863332 -0.01196245  0.00871855 -0.03899922\n",
      "  0.0081017   0.05791839 -0.00444368]\n"
     ]
    }
   ],
   "source": [
    "# Stochastic Gradient Descent.\n",
    "import stochastic_gradient_descent as sgd\n",
    "def least_squares_SGD(y, tx, initial_w, batch_size, max_epochs, gamma) :\n",
    "\n",
    " return sgd.stochastic_gradient_descent(y, tx, initial_w, batch_size, max_epochs, gamma)\n",
    "\n",
    "initial_w = np.zeros(tX_final.shape[1]) # initialisation of initial weights\n",
    "max_iters = 1000 # max iter number\n",
    "gamma = 1e-3 # gradient descent speed  \n",
    "batch_size = 30\n",
    "[sto_Losses , sto_gradient_weight] =least_squares_SGD(y,tX_final,initial_w,batch_size,max_iters,gamma )\n",
    "print(sto_gradient_weight[-1])"
   ]
  },
  {
   "cell_type": "code",
   "execution_count": 74,
   "metadata": {
    "collapsed": false
   },
   "outputs": [
    {
     "name": "stdout",
     "output_type": "stream",
     "text": [
      "0.839499225103\n"
     ]
    }
   ],
   "source": [
    "#Least squares.\n",
    "import least_squares as ls\n",
    "import costs as co\n",
    "def least_squares_vanilla(y,tx):\n",
    "    \n",
    "    weights = ls.least_squares(y ,tx)\n",
    "    rmse = np.sqrt(2*co.compute_loss(y,tx,weights))\n",
    "    print(rmse)\n",
    "    return rmse , weights\n",
    "\n",
    "[vanilla_losses , vanilla_weights] = least_squares_vanilla(y,tX_final)"
   ]
  },
  {
   "cell_type": "code",
   "execution_count": 73,
   "metadata": {
    "collapsed": false
   },
   "outputs": [
    {
     "name": "stdout",
     "output_type": "stream",
     "text": [
      "Training RMSE=0.976\n"
     ]
    }
   ],
   "source": [
    "##### ridge regression\n",
    "import least_squares_ridge as lsr\n",
    "import costs as co\n",
    "def ridge_regression_demo(y, tx,lamb):\n",
    "     # define parameter\n",
    "     \n",
    "    \n",
    "     \n",
    "     weight =  lsr.ridge_regression(y , tx , lamb)\n",
    "    \n",
    "     rmse_tr = np.sqrt(2*co.compute_loss(y,tx,weight))\n",
    "     \n",
    "    \n",
    "     print(\"Training RMSE={tr:.3f}\".format(tr=rmse_tr))\n",
    "     return weight\n",
    "\n",
    "lamb = 23\n",
    "#print(vanilla_weights)\n",
    "ridge_weight = ridge_regression_demo(y,tX_final,lamb)"
   ]
  },
  {
   "cell_type": "code",
   "execution_count": null,
   "metadata": {
    "collapsed": true
   },
   "outputs": [],
   "source": []
  },
  {
   "cell_type": "code",
   "execution_count": null,
   "metadata": {
    "collapsed": true
   },
   "outputs": [],
   "source": []
  },
  {
   "cell_type": "markdown",
   "metadata": {},
   "source": [
    "## Generate predictions and save ouput in csv format for submission:"
   ]
  },
  {
   "cell_type": "code",
   "execution_count": 17,
   "metadata": {
    "collapsed": false
   },
   "outputs": [],
   "source": [
    "DATA_TEST_PATH = 'Test.csv' # TODO: download train data and supply path here \n",
    "_, tX_test, ids_test = load_csv_data(DATA_TEST_PATH)"
   ]
  },
  {
   "cell_type": "code",
   "execution_count": 124,
   "metadata": {
    "collapsed": false
   },
   "outputs": [],
   "source": [
    "x = np.ones([tX_test.shape[0],1])\n",
    "#tX_final_test =tX_test[:,[1,2,3,7,8,9,10,11,13,14,15,16,17,18,19,20,21,22,23,29]]\n",
    "tX_final_test =(tX_final_test - np.mean(tX_final_test))/np.std(tX_final_test)\n",
    "\n",
    "tX_final_test = np.concatenate((x,tX_test),axis = 1)\n",
    "\n",
    "OUTPUT_PATH = 'least_square_G.csv' # TODO: fill in desired name of output file for submission\n",
    "#print(gradient_weights)\n",
    "weights = gradient_weights[-1]\n",
    "y_pred = predict_labels(weights, tX_final_test)\n",
    "create_csv_submission(ids_test, y_pred, OUTPUT_PATH)"
   ]
  },
  {
   "cell_type": "code",
   "execution_count": null,
   "metadata": {
    "collapsed": true
   },
   "outputs": [],
   "source": []
  }
 ],
 "metadata": {
  "anaconda-cloud": {},
  "kernelspec": {
   "display_name": "Python [Root]",
   "language": "python",
   "name": "Python [Root]"
  },
  "language_info": {
   "codemirror_mode": {
    "name": "ipython",
    "version": 3
   },
   "file_extension": ".py",
   "mimetype": "text/x-python",
   "name": "python",
   "nbconvert_exporter": "python",
   "pygments_lexer": "ipython3",
   "version": "3.5.2"
  }
 },
 "nbformat": 4,
 "nbformat_minor": 0
}
